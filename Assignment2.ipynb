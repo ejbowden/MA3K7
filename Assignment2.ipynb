{
 "cells": [
  {
   "cell_type": "code",
   "execution_count": 1,
   "id": "6d891f72",
   "metadata": {},
   "outputs": [],
   "source": [
    "#importing libraries\n",
    "import numpy as np\n",
    "import matplotlib.pyplot as plt\n",
    "import random"
   ]
  },
  {
   "cell_type": "code",
   "execution_count": 13,
   "id": "1ad7f626",
   "metadata": {},
   "outputs": [
    {
     "name": "stdout",
     "output_type": "stream",
     "text": [
      "[[0. 1.]\n",
      " [1. 0.]]\n",
      "[[1. 0.]\n",
      " [0. 1.]]\n"
     ]
    }
   ],
   "source": [
    "#functions to create a matrix of 1s and 0s\n",
    "#player A start\n",
    "def createAMatrix(n):\n",
    "    z=int((n*n)/2)\n",
    "    M=np.zeros(shape=(n,n))\n",
    "    for i in range(z):\n",
    "        empty=False\n",
    "        while empty==False:\n",
    "            j=random.randint(0,n-1)\n",
    "            k=random.randint(0,n-1)\n",
    "            if M[j][k]==0:\n",
    "                empty=True\n",
    "        \n",
    "        M[j][k]=1\n",
    "    return M\n",
    "\n",
    "#player B start\n",
    "def createBMatrix(n):\n",
    "    z=int(((n*n+1)/2))\n",
    "    M=np.zeros(shape=(n,n))\n",
    "    for i in range(z):\n",
    "        empty=False\n",
    "        while empty==False:\n",
    "            j=random.randint(0,n-1)\n",
    "            k=random.randint(0,n-1)\n",
    "            if M[j][k]==0:\n",
    "                empty=True\n",
    "        \n",
    "        M[j][k]=1\n",
    "    return M\n",
    "\n",
    "M=createAMatrix(2)\n",
    "print(M)\n",
    "M=createBMatrix(2)\n",
    "print(M)"
   ]
  },
  {
   "cell_type": "code",
   "execution_count": 24,
   "id": "4eed863b",
   "metadata": {},
   "outputs": [
    {
     "data": {
      "image/png": "[encoded data removed]",
      "text/plain": [
       "<Figure size 432x288 with 1 Axes>"
      ]
     },
     "metadata": {
      "needs_background": "light"
     },
     "output_type": "display_data"
    }
   ],
   "source": [
    "#Creating graphs to show chance of a random matrix having determinant 0 as size increases\n",
    "n=20\n",
    "reps=300\n",
    "x=list(range(1,n+1))\n",
    "y=np.zeros(n)\n",
    "z=np.zeros(n)\n",
    "w=np.zeros(n)\n",
    "\n",
    "for i in range(1,n):\n",
    "    ytotal=0\n",
    "    ztotal=0\n",
    "    wtotal=0\n",
    "    for j in range(reps):\n",
    "        M=createAMatrix(i)\n",
    "        if np.linalg.det(M)==0:\n",
    "            ytotal+=1\n",
    "            wtotal+=1\n",
    "        M=createBMatrix(i)\n",
    "        if np.linalg.det(M)==0:\n",
    "            ztotal+=1\n",
    "            wtotal+=1\n",
    "        y[i-1]=ytotal/reps\n",
    "        z[i-1]=ztotal/reps\n",
    "        w[i-1]=wtotal/(reps*2)\n",
    "    \n",
    "plt.plot(x,y, label='Player A starts')\n",
    "plt.plot(x,z, label='Player B starts')\n",
    "#plt.plot(x,w, label='Average')\n",
    "plt.xlabel('Size of matrix')\n",
    "plt.ylabel('Chance of matrix having 0 determinant')\n",
    "plt.legend()\n",
    "plt.show()"
   ]
  },
  {
   "cell_type": "code",
   "execution_count": null,
   "id": "64046d26",
   "metadata": {},
   "outputs": [],
   "source": []
  }
 ],
 "metadata": {
  "kernelspec": {
   "display_name": "Python 3 (ipykernel)",
   "language": "python",
   "name": "python3"
  },
  "language_info": {
   "codemirror_mode": {
    "name": "ipython",
    "version": 3
   },
   "file_extension": ".py",
   "mimetype": "text/x-python",
   "name": "python",
   "nbconvert_exporter": "python",
   "pygments_lexer": "ipython3",
   "version": "3.9.7"
  }
 },
 "nbformat": 4,
 "nbformat_minor": 5
}
