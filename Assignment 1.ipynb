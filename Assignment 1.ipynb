{
 "cells": [
  {
   "cell_type": "code",
   "execution_count": 1,
   "id": "9af8cd1d",
   "metadata": {},
   "outputs": [],
   "source": [
    "#function to make a bracelet\n",
    "def makeBracelet(number1,number2,length):\n",
    "    list=[number1,number2]\n",
    "    for i in range((length-2)):\n",
    "        newNum=(number1+number2)%10\n",
    "        number1=number2\n",
    "        number2=newNum\n",
    "        list.append(newNum)\n",
    "    print(list)"
   ]
  },
  {
   "cell_type": "code",
   "execution_count": 2,
   "id": "a07a1793",
   "metadata": {},
   "outputs": [
    {
     "name": "stdout",
     "output_type": "stream",
     "text": [
      "[1, 5, 6, 1, 7, 8, 5, 3, 8, 1, 9, 0, 9, 9, 8, 7, 5, 2, 7, 9, 6, 5, 1, 6, 7, 3, 0, 3, 3, 6, 9, 5, 4, 9, 3, 2, 5, 7, 2, 9, 1, 0, 1, 1, 2, 3, 5, 8, 3, 1, 4, 5, 9, 4, 3, 7, 0, 7, 7, 4, 1, 5, 6, 1, 7, 8, 5, 3, 8, 1, 9, 0, 9, 9, 8, 7, 5, 2, 7, 9, 6, 5, 1, 6, 7, 3, 0, 3, 3, 6, 9, 5, 4, 9, 3, 2, 5, 7, 2, 9]\n"
     ]
    }
   ],
   "source": [
    "#making a longer version of the example bracelet - one with 100 digits as that is the most possible before repeats\n",
    "#and one with 62 as it actually repeats after 60 (plus two to see the repeat)\n",
    "makeBracelet(1,5,100)"
   ]
  },
  {
   "cell_type": "code",
   "execution_count": 3,
   "id": "d766f833",
   "metadata": {},
   "outputs": [
    {
     "name": "stdout",
     "output_type": "stream",
     "text": [
      "[1, 5, 6, 1, 7, 8, 5, 3, 8, 1, 9, 0, 9, 9, 8, 7, 5, 2, 7, 9, 6, 5, 1, 6, 7, 3, 0, 3, 3, 6, 9, 5, 4, 9, 3, 2, 5, 7, 2, 9, 1, 0, 1, 1, 2, 3, 5, 8, 3, 1, 4, 5, 9, 4, 3, 7, 0, 7, 7, 4, 1, 5]\n"
     ]
    }
   ],
   "source": [
    "makeBracelet(1,5,62)"
   ]
  },
  {
   "cell_type": "code",
   "execution_count": 4,
   "id": "39e2bc14",
   "metadata": {},
   "outputs": [
    {
     "name": "stdout",
     "output_type": "stream",
     "text": [
      "[1, 3, 4, 7, 1, 8, 9, 7, 6, 3, 9, 2, 1, 3, 4, 7, 1, 8, 9, 7, 6, 3, 9, 2, 1, 3, 4, 7, 1, 8, 9, 7, 6, 3, 9, 2, 1, 3, 4, 7]\n",
      "[1, 3, 4, 7, 1, 8, 9, 7, 6, 3, 9, 2, 1, 3]\n"
     ]
    }
   ],
   "source": [
    "#similar to above, making a different bracelet, once with maximum digits, once with just enough to show to loop\n",
    "makeBracelet(1,3,40)\n",
    "makeBracelet(1,3,14)"
   ]
  },
  {
   "cell_type": "code",
   "execution_count": 5,
   "id": "71d9bfb3",
   "metadata": {
    "scrolled": true
   },
   "outputs": [
    {
     "name": "stdout",
     "output_type": "stream",
     "text": [
      "[0, 2, 2, 4, 6, 0, 6, 6, 2, 8, 0, 8, 8, 6, 4, 0, 4, 4, 8, 2, 0, 2, 2, 4, 6, 0, 6]\n",
      "[0, 2, 2, 4, 6, 0, 6, 6, 2, 8, 0, 8, 8, 6, 4, 0, 4, 4, 8, 2, 0, 2]\n"
     ]
    }
   ],
   "source": [
    "#similar to above with a different bracelet\n",
    "makeBracelet(0,2,27)\n",
    "makeBracelet(0,2,22)"
   ]
  },
  {
   "cell_type": "code",
   "execution_count": 7,
   "id": "18fe2c20",
   "metadata": {},
   "outputs": [
    {
     "name": "stdout",
     "output_type": "stream",
     "text": [
      "[0, 5, 5, 0, 5, 5, 0, 5, 5, 0]\n",
      "[4, 2, 6, 8, 4, 2, 6, 8]\n"
     ]
    }
   ],
   "source": [
    "#making the final two bracelets\n",
    "makeBracelet(0,5,10)\n",
    "makeBracelet(4,2,8)"
   ]
  },
  {
   "cell_type": "code",
   "execution_count": null,
   "id": "cf1ae8b5",
   "metadata": {},
   "outputs": [],
   "source": []
  }
 ],
 "metadata": {
  "kernelspec": {
   "display_name": "Python 3 (ipykernel)",
   "language": "python",
   "name": "python3"
  },
  "language_info": {
   "codemirror_mode": {
    "name": "ipython",
    "version": 3
   },
   "file_extension": ".py",
   "mimetype": "text/x-python",
   "name": "python",
   "nbconvert_exporter": "python",
   "pygments_lexer": "ipython3",
   "version": "3.9.7"
  }
 },
 "nbformat": 4,
 "nbformat_minor": 5
}
